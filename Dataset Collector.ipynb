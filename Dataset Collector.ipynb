{
 "cells": [
  {
   "cell_type": "markdown",
   "id": "71213248",
   "metadata": {},
   "source": [
    "DATA SET COLLECTOR"
   ]
  },
  {
   "cell_type": "code",
   "execution_count": 18,
   "id": "0881c00c",
   "metadata": {},
   "outputs": [],
   "source": [
    "import gym\n",
    "import numpy as np\n",
    "import gym_donkeycar\n",
    "import cv2\n",
    "import os\n",
    "import matplotlib.pyplot as plt\n",
    "from functions import *\n",
    "import warnings\n",
    "import csv\n",
    "import time\n",
    "import datetime\n",
    "warnings.filterwarnings(\"ignore\")"
   ]
  },
  {
   "cell_type": "code",
   "execution_count": 35,
   "id": "2fb9f97b",
   "metadata": {},
   "outputs": [
    {
     "name": "stdout",
     "output_type": "stream",
     "text": [
      "starting DonkeyGym env\n",
      "Setting default: start_delay 5.0\n",
      "Setting default: max_cte 8.0\n",
      "Setting default: frame_skip 1\n",
      "Setting default: log_level 20\n",
      "Setting default: host localhost\n",
      "Setting default: steer_limit 1.0\n",
      "Setting default: throttle_min 0.0\n",
      "Setting default: throttle_max 1.0\n",
      "donkey subprocess started\n"
     ]
    },
    {
     "name": "stderr",
     "output_type": "stream",
     "text": [
      "INFO:gym_donkeycar.core.client:connecting to localhost:9091 \n",
      "WARNING:gym_donkeycar.envs.donkey_sim:waiting for sim to start..\n"
     ]
    },
    {
     "name": "stdout",
     "output_type": "stream",
     "text": [
      "loading scene generated_road\n"
     ]
    },
    {
     "name": "stderr",
     "output_type": "stream",
     "text": [
      "INFO:gym_donkeycar.envs.donkey_sim:on need car config\n",
      "INFO:gym_donkeycar.envs.donkey_sim:sending car config.\n",
      "INFO:gym_donkeycar.envs.donkey_sim:done sending cam config. {'img_w': 512, 'img_h': 512, 'img_d': 3}\n",
      "INFO:gym_donkeycar.envs.donkey_sim:sim started!\n"
     ]
    }
   ],
   "source": [
    "def is_port_in_use(port):\n",
    "    import socket\n",
    "    with socket.socket(socket.AF_INET, socket.SOCK_STREAM) as s:\n",
    "        return s.connect_ex(('localhost', port)) == 0\n",
    "\n",
    "exe_path = \"C:/Users/Acer/Desktop/Research/DonkeySimWin1/donkey_sim.exe\"\n",
    "port = 9091 \n",
    "\n",
    "cam = (512, 512, 3) \n",
    "conf = {\"exe_path\": exe_path, \"port\": port, \"cam_resolution\" :cam,'cam_config':{'img_w': cam[0], 'img_h': cam[1], 'img_d': cam[2]} }\n",
    " \n",
    "if not is_port_in_use(port):\n",
    "    env = gym.make(\"donkey-generated-roads-v0\", conf=conf)\n",
    "    obs = env.reset() \n",
    "else:\n",
    "    print(f\"Simulator is already running on port {port}.\")\n",
    "    env = gym.make(\"donkey-generated-roads-v0\", conf=conf)\n",
    "    obs = env.reset() "
   ]
  },
  {
   "cell_type": "markdown",
   "id": "e6018b69",
   "metadata": {},
   "source": [
    "CALIBRATE HSV VALUES\n",
    "\n",
    "The code below returns the values for HSV masking and points for warping"
   ]
  },
  {
   "cell_type": "code",
   "execution_count": 5,
   "id": "769759b8",
   "metadata": {},
   "outputs": [
    {
     "name": "stdout",
     "output_type": "stream",
     "text": [
      "HSV Min Range: [0, 0, 0]\n",
      "HSV Max Range: [255, 255, 255]\n",
      "Warp Points: [[0, 256], [512, 256], [512, 0], [0, 0]]\n"
     ]
    }
   ],
   "source": [
    "action = np.array([0, 0]) \n",
    "obs, reward, done, info = env.step(action)\n",
    "img = cv2.cvtColor(obs,cv2.COLOR_RGB2BGR) \n",
    "parameters = calibrate(img)\n",
    "print(\"HSV Min Range: {}\".format(parameters[0]))\n",
    "print(\"HSV Max Range: {}\".format(parameters[1]))\n",
    "print(\"Warp Points: {}\".format(parameters[2]))\n",
    "obs = env.reset()"
   ]
  },
  {
   "cell_type": "code",
   "execution_count": 12,
   "id": "fafa6507",
   "metadata": {},
   "outputs": [],
   "source": [
    "# Now once the calibrated values are obtained , the values are kept in below function\n",
    "def process(image):\n",
    "    hsv_min_value = [5, 0, 166]\n",
    "    hsv_max_value = [121, 180, 255]\n",
    "    warp_points =  [[26, 327], [486, 327], [339, 238], [173, 238]]\n",
    "    \n",
    "    height, width = image.shape[:2]\n",
    "    destination_points = [[0, height], [width, height], [width, 0], [0, 0]]\n",
    "    target_points = np.float32(warp_points)\n",
    "    destination = np.float32(destination_points)\n",
    "    matrix= cv2.getPerspectiveTransform(target_points, destination)\n",
    "    inv_matrix = cv2.getPerspectiveTransform(destination,target_points)\n",
    "    warped_result = cv2.warpPerspective(image, matrix, (width, height))  \n",
    "    hsv = cv2.cvtColor(warped_result, cv2.COLOR_BGR2HSV)\n",
    "    # Create a mask based on the HSV thresholds\n",
    "\n",
    "    hsv_min = np.array(hsv_min_value)\n",
    "    hsv_max = np.array(hsv_max_value)\n",
    "    mask = cv2.inRange(hsv, hsv_min, hsv_max)\n",
    "    kernel = np.ones((5, 5), np.uint8)\n",
    "    erosion = cv2.erode(mask, kernel, iterations=1)\n",
    "    dilation_mask = cv2.dilate(erosion, kernel, iterations=1)\n",
    "            # Display the images\n",
    "    return warped_result,dilation_mask"
   ]
  },
  {
   "cell_type": "code",
   "execution_count": 9,
   "id": "096b6e86",
   "metadata": {},
   "outputs": [],
   "source": [
    "# TESTING LANE AND CURVATURE"
   ]
  },
  {
   "cell_type": "code",
   "execution_count": 30,
   "id": "b3bf9336",
   "metadata": {},
   "outputs": [
    {
     "name": "stdout",
     "output_type": "stream",
     "text": [
      "Folder \"Data\\IMG\" already exists.\n"
     ]
    }
   ],
   "source": [
    "# Create Dataset Folder \n",
    "data_folder_path = 'Data'\n",
    "img_folder_path = os.path.join(data_folder_path, 'IMG')\n",
    "\n",
    "# Check if 'Data' folder already exists, if not, create it\n",
    "if not os.path.exists(data_folder_path):\n",
    "    os.makedirs(data_folder_path)\n",
    "    print(f'Folder \"{data_folder_path}\" created.')\n",
    "\n",
    "# Check if 'IMG' folder inside 'Data' already exists, if not, create it\n",
    "if not os.path.exists(img_folder_path):\n",
    "    os.makedirs(img_folder_path)\n",
    "    print(f'Folder \"{img_folder_path}\" created.')\n",
    "else:\n",
    "    print(f'Folder \"{img_folder_path}\" already exists.')\n"
   ]
  },
  {
   "cell_type": "code",
   "execution_count": 36,
   "id": "e4d64c32",
   "metadata": {},
   "outputs": [],
   "source": [
    "steering_angle = 0\n",
    "throttle_speed = 0.1\n",
    "now = datetime.datetime.now()\n",
    "file_path = now.strftime(\"%Y_%m_%d_\") + now.strftime(\"%H_%M_%S\")\n",
    "file_counter = 0\n",
    "\n",
    "with open(data_folder_path + \"/driving_log.csv\", \"a\", newline=\"\") as csvfile:\n",
    "    log_writer = csv.writer(csvfile)\n",
    "    while True:\n",
    "        action = np.array([steering_angle, throttle_speed]) \n",
    "        obs, reward, done, info = env.step(action)\n",
    "        img = cv2.cvtColor(obs,cv2.COLOR_RGB2BGR)\n",
    "        data_img = cv2.resize(img, (480, 320))\n",
    "        warped_result,mask = process(img)\n",
    "        img = draw_steering_indicator(img, steering_angle, radius = 100)\n",
    "        left_points,right_points,msk = sliding_window(mask)\n",
    "        steering_angle = find_steering_angle(left_points,right_points, msk.shape[1]) * 0.5\n",
    "        combined = create_combined_frame([img,warped_result,cv2.merge([mask, mask, mask]),msk])\n",
    "        cv2.imshow(\"Combined Image\",combined)\n",
    "        file_name = str(file_path)+ \"_\" + str(file_counter) + \".jpg\"\n",
    "        img_path = img_folder_path + \"/\" + str(file_name)\n",
    "        log_writer.writerow([file_name, steering_angle])\n",
    "        file_counter = file_counter + 1\n",
    "        cv2.imwrite(img_path, data_img)\n",
    "        k = cv2.waitKey(10)\n",
    "        if k == ord('e') :\n",
    "            action = np.array([0, 0])\n",
    "            cv2.destroyAllWindows()\n",
    "            break\n",
    " \n",
    "obs = env.reset()    \n",
    "cv2.destroyAllWindows()"
   ]
  },
  {
   "cell_type": "code",
   "execution_count": 20,
   "id": "5eda21e7",
   "metadata": {},
   "outputs": [],
   "source": [
    "# Run this code if code hangs up\n",
    "obs = env.reset()\n",
    "cv2.destroyAllWindows()"
   ]
  },
  {
   "cell_type": "code",
   "execution_count": 37,
   "id": "9d41478b",
   "metadata": {},
   "outputs": [
    {
     "name": "stdout",
     "output_type": "stream",
     "text": [
      "closing donkey sim subprocess\n"
     ]
    }
   ],
   "source": [
    "env.close()"
   ]
  }
 ],
 "metadata": {
  "kernelspec": {
   "display_name": "car",
   "language": "python",
   "name": "car"
  },
  "language_info": {
   "codemirror_mode": {
    "name": "ipython",
    "version": 3
   },
   "file_extension": ".py",
   "mimetype": "text/x-python",
   "name": "python",
   "nbconvert_exporter": "python",
   "pygments_lexer": "ipython3",
   "version": "3.8.0"
  }
 },
 "nbformat": 4,
 "nbformat_minor": 5
}
