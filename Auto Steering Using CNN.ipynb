{
 "cells": [
  {
   "cell_type": "code",
   "execution_count": 20,
   "id": "3f86d8cd",
   "metadata": {},
   "outputs": [],
   "source": [
    "import gym\n",
    "import numpy as np\n",
    "import gym_donkeycar\n",
    "import cv2\n",
    "import os\n",
    "import matplotlib.pyplot as plt\n",
    "from tensorflow.keras.models import load_model"
   ]
  },
  {
   "cell_type": "code",
   "execution_count": 21,
   "id": "9c25ebd4",
   "metadata": {},
   "outputs": [],
   "source": [
    "import warnings\n",
    "warnings.filterwarnings(\"ignore\")"
   ]
  },
  {
   "cell_type": "code",
   "execution_count": 22,
   "id": "82c5a325",
   "metadata": {},
   "outputs": [],
   "source": [
    "def flatten_image(img):\n",
    "    return img.flatten()\n",
    "\n",
    "def preprocessing(img,condition = True):\n",
    "    if condition :\n",
    "        img = img[120:,:,:]\n",
    "        img = cv2.cvtColor(img,cv2.COLOR_RGB2YUV)\n",
    "        img = cv2.GaussianBlur(img,(3,3),0)\n",
    "        img = cv2.resize(img,(200,66))\n",
    "        img = img/255\n",
    "        return img\n",
    "    else :\n",
    "        return img\n"
   ]
  },
  {
   "cell_type": "code",
   "execution_count": 23,
   "id": "1fe4e9df",
   "metadata": {},
   "outputs": [],
   "source": [
    "def draw_steering_indicator(image, steering_value, radius = 50,text_offset = [10,-5],text_size = 0.8):\n",
    "    angle_rad = np.interp(steering_value, [-1, 0, 1], [np.pi, np.pi/2, 0])\n",
    "    center_x, center_y = image.shape[1] // 2, int(image.shape[0] * 0.9)\n",
    "    end_x = int(center_x + radius * np.cos(angle_rad))\n",
    "    end_y = int(center_y - radius * np.sin(angle_rad))\n",
    "    cv2.ellipse(image, (center_x, center_y), (radius, radius), 180, 180, 0, 255, 3)\n",
    "    cv2.line(image, (center_x, center_y), (end_x, end_y), (0, 255, 0), 3)\n",
    "    text_offset_x, text_offset_y = text_offset[0], text_offset[1]\n",
    "    text_x = end_x + text_offset_x\n",
    "    text_y = end_y + text_offset_y\n",
    "    text = f'Steering: {steering_value:.2f}'\n",
    "    cv2.putText(image, text, (text_x, text_y), cv2.FONT_HERSHEY_SIMPLEX, text_size, (0, 0, 255), 2)\n",
    "    cv2.circle(image, (end_x, end_y), radius//10, (60, 200, 0), -1)\n",
    "    cv2.circle(image, (center_x, center_y), radius//15, (255, 255, 255), -1)\n",
    "    return image"
   ]
  },
  {
   "cell_type": "code",
   "execution_count": 24,
   "id": "e81de7f5",
   "metadata": {},
   "outputs": [
    {
     "name": "stdout",
     "output_type": "stream",
     "text": [
      "starting DonkeyGym env\n",
      "Setting default: start_delay 5.0\n",
      "Setting default: max_cte 8.0\n",
      "Setting default: frame_skip 1\n",
      "Setting default: log_level 20\n",
      "Setting default: host localhost\n",
      "Setting default: steer_limit 1.0\n",
      "Setting default: throttle_min 0.0\n",
      "Setting default: throttle_max 1.0\n",
      "donkey subprocess started\n"
     ]
    },
    {
     "name": "stderr",
     "output_type": "stream",
     "text": [
      "INFO:gym_donkeycar.core.client:connecting to localhost:9091 \n",
      "WARNING:gym_donkeycar.envs.donkey_sim:waiting for sim to start..\n"
     ]
    },
    {
     "name": "stdout",
     "output_type": "stream",
     "text": [
      "loading scene generated_road\n"
     ]
    },
    {
     "name": "stderr",
     "output_type": "stream",
     "text": [
      "INFO:gym_donkeycar.envs.donkey_sim:on need car config\n",
      "INFO:gym_donkeycar.envs.donkey_sim:sending car config.\n",
      "INFO:gym_donkeycar.envs.donkey_sim:done sending cam config. {'img_w': 512, 'img_h': 512, 'img_d': 3}\n",
      "INFO:gym_donkeycar.envs.donkey_sim:sim started!\n"
     ]
    }
   ],
   "source": [
    "  \n",
    "def is_port_in_use(port):\n",
    "    import socket\n",
    "    with socket.socket(socket.AF_INET, socket.SOCK_STREAM) as s:\n",
    "        return s.connect_ex(('localhost', port)) == 0\n",
    "\n",
    "exe_path = \"C:/Users/Acer/Desktop/Research/DonkeySimWin1/donkey_sim.exe\"\n",
    "port = 9091 \n",
    "\n",
    "cam = (512, 512, 3) \n",
    "conf = {\"exe_path\": exe_path, \"port\": port, \"cam_resolution\" :cam,'cam_config':{'img_w': cam[0], 'img_h': cam[1], 'img_d': cam[2]} }\n",
    " \n",
    "if not is_port_in_use(port):\n",
    "    env = gym.make(\"donkey-generated-roads-v0\", conf=conf)\n",
    "    obs = env.reset() \n",
    "else:\n",
    "    print(f\"Simulator is already running on port {port}. Close the simulator and re run\")\n"
   ]
  },
  {
   "cell_type": "markdown",
   "id": "382249fd",
   "metadata": {},
   "source": [
    "**CNN**"
   ]
  },
  {
   "cell_type": "code",
   "execution_count": 39,
   "id": "466db1bc",
   "metadata": {},
   "outputs": [],
   "source": [
    "model_CNN = load_model('CNN_model.h5', compile=False)"
   ]
  },
  {
   "cell_type": "code",
   "execution_count": 40,
   "id": "850849f7",
   "metadata": {},
   "outputs": [],
   "source": [
    "throttle_speed = 0.1\n",
    "steering_temp = 0\n",
    "steering_amplifier = 5\n",
    "try:\n",
    "    while True:\n",
    "        action = np.array([steering_temp, throttle_speed]) \n",
    "        obs, reward, done, info = env.step(action)\n",
    "        img = cv2.cvtColor(obs,cv2.COLOR_RGB2BGR)\n",
    "        img = cv2.GaussianBlur(img,  (3, 3), 0)\n",
    "        img = cv2.resize(img, (512, 512))\n",
    "        img = cv2.putText(img, str(steering_temp), (50, 50), cv2.FONT_HERSHEY_SIMPLEX,1, (255, 0, 0), 1, cv2.LINE_AA)\n",
    "        img = draw_steering_indicator(img, steering_temp, radius = 100)\n",
    "        temp_img = preprocessing(obs) * steering_amplifier\n",
    "        temp_img = np.expand_dims(temp_img,axis = 0)\n",
    "        temp = float(model_CNN.predict(temp_img))\n",
    "        steering_temp = temp * 1.4\n",
    "        cv2.imshow(\"window\" ,img)\n",
    "        k = cv2.waitKey(10)\n",
    "        if k == ord('e'):\n",
    "            steering_temp = 0\n",
    "            action = np.array([0, 0])\n",
    "            break\n",
    "except KeyboardInterrupt:\n",
    "    pass\n",
    "\n",
    "cv2.destroyAllWindows()\n",
    "obs = env.reset()\n",
    " "
   ]
  },
  {
   "cell_type": "code",
   "execution_count": 19,
   "id": "2bd649f9",
   "metadata": {},
   "outputs": [
    {
     "name": "stdout",
     "output_type": "stream",
     "text": [
      "closing donkey sim subprocess\n"
     ]
    }
   ],
   "source": [
    "env.close()"
   ]
  }
 ],
 "metadata": {
  "kernelspec": {
   "display_name": "car",
   "language": "python",
   "name": "car"
  },
  "language_info": {
   "codemirror_mode": {
    "name": "ipython",
    "version": 3
   },
   "file_extension": ".py",
   "mimetype": "text/x-python",
   "name": "python",
   "nbconvert_exporter": "python",
   "pygments_lexer": "ipython3",
   "version": "3.8.0"
  }
 },
 "nbformat": 4,
 "nbformat_minor": 5
}
